{
  "cells": [
    {
      "cell_type": "markdown",
      "metadata": {
        "id": "view-in-github",
        "colab_type": "text"
      },
      "source": [
        "<a href=\"https://colab.research.google.com/github/vchraf/GeniusLyricsScraper/blob/main/Scraper.ipynb\" target=\"_parent\"><img src=\"https://colab.research.google.com/assets/colab-badge.svg\" alt=\"Open In Colab\"/></a>"
      ]
    },
    {
      "cell_type": "code",
      "execution_count": null,
      "metadata": {
        "id": "z3mVdS2I0y-t"
      },
      "outputs": [],
      "source": [
        "import requests\n",
        "import urllib.request\n",
        "import urllib.parse\n",
        "import json\n",
        "import re\n",
        "import pandas as pd\n",
        "from bs4 import BeautifulSoup"
      ]
    },
    {
      "cell_type": "code",
      "execution_count": null,
      "metadata": {
        "id": "8zHXQmHJ04BP"
      },
      "outputs": [],
      "source": [
        "BASE = \"https://api.genius.com\"\n",
        "CLIENT_ACCESS_TOKEN = \"-q1tRGBZMEOk6JewZCC_KWZBxyFSg9nccGlX11Cb3MxpGpzWG4FBSJIXCJS33D3x\""
      ]
    },
    {
      "cell_type": "code",
      "execution_count": null,
      "metadata": {
        "id": "n4niBkLTQfsl"
      },
      "outputs": [],
      "source": [
        "def getJsonData(query, page = 1 ):\n",
        "  f_query  = f\"{BASE}/{query}\"\n",
        "  token = f\"Bearer {CLIENT_ACCESS_TOKEN}\"\n",
        "  headers = {\"Authorization\": token}\n",
        "  params = {'page': page}\n",
        "  response = requests.get(url=f_query, params=params, headers=headers)\n",
        "  return response.json()"
      ]
    },
    {
      "cell_type": "code",
      "execution_count": null,
      "metadata": {
        "id": "IvB8wbXXYBOo"
      },
      "outputs": [],
      "source": [
        "def getArtistID(artistName):\n",
        "  try:\n",
        "    return getJsonData(f\"search?q={artistName}\")['response']['hits'][0]['result']['primary_artist']['id']\n",
        "  except:\n",
        "    return -1"
      ]
    },
    {
      "cell_type": "code",
      "execution_count": null,
      "metadata": {
        "id": "i0J8-Xeh4Puk"
      },
      "outputs": [],
      "source": [
        "def getListOfSongsIDs(artistID,Max = 2):\n",
        "  if artistID != -1:\n",
        "    query = f\"artists/{artistID}/songs/\"\n",
        "    page = 1\n",
        "    artistJson = []\n",
        "    while True:\n",
        "      jsonData = getJsonData(query,page)['response']['songs']\n",
        "      if jsonData: artistJson += jsonData\n",
        "      else: break\n",
        "      if page == Max:break\n",
        "      else: page += 1\n",
        "\n",
        "    return [song[\"id\"] for song in artistJson if song[\"primary_artist\"][\"id\"] == artistID]"
      ]
    },
    {
      "cell_type": "code",
      "execution_count": null,
      "metadata": {
        "id": "ZMUdo6cxfQb9"
      },
      "outputs": [],
      "source": [
        "def getLyric(SongID):\n",
        "  query = f\"songs/{SongID}\"\n",
        "  jsonData = getJsonData(query)\n",
        "  URL = \"http://genius.com\" + jsonData['response']['song']['path']\n",
        "  page = requests.get(URL)\n",
        "  html = BeautifulSoup(page.text, \"html.parser\")\n",
        "  js = html.find_all(\"script\")[16]\n",
        "  txt = str(js)[str(js).find('\\\\\"html\\\\\":\\\\\"<p><b>')+11 : str(js).find('\\\\\"children\\\\\":[{\\\\\"children\\\\') - 2]\n",
        "  txt = re.sub('<.*?>', '',txt)\n",
        "  txtli = txt.split('\\\\n')\n",
        "  return URL,[t.replace(\"\\\\\",\"\") for t in txtli if t != '\\\\' ][1:]"
      ]
    },
    {
      "cell_type": "code",
      "execution_count": null,
      "metadata": {
        "id": "c5-8pu4K05l7"
      },
      "outputs": [],
      "source": [
        "def writeOnFile_txt(path, input):\n",
        "  textfile = open(path, \"a\")\n",
        "  for element in input:\n",
        "    textfile.write(element + \"\\n\")\n",
        "  textfile.close()"
      ]
    },
    {
      "cell_type": "code",
      "execution_count": null,
      "metadata": {
        "colab": {
          "background_save": true
        },
        "id": "Kg_ri49bmDA4"
      },
      "outputs": [],
      "source": [
        "for art in artList.text.values:\n",
        "  listOfSongs = getListOfSongsIDs(getArtistID(art))\n",
        "  for id in listOfSongs:\n",
        "    writeOnFile_txt(\"Lyr.txt\", getLyric(id)[1])"
      ]
    }
  ],
  "metadata": {
    "colab": {
      "name": "GeniusLyricsScraper.ipynb",
      "provenance": [],
      "collapsed_sections": [],
      "authorship_tag": "ABX9TyPB08khMrSs3kzYj+FUVeVR",
      "include_colab_link": true
    },
    "kernelspec": {
      "display_name": "Python 3",
      "name": "python3"
    },
    "language_info": {
      "name": "python"
    }
  },
  "nbformat": 4,
  "nbformat_minor": 0
}